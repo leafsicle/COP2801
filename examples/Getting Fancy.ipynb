{
 "cells": [
  {
   "cell_type": "code",
   "execution_count": 2,
   "metadata": {},
   "outputs": [],
   "source": [
    "//Theres a concept called context that you need to understand.\n",
    "//its sometimes called the execution context\n",
    "//everytime we write a line of js code, there is a context in which that line is being executed\n",
    "//code outside of a function operates in the global context\n",
    "//code inside  of a function operates in another context\n",
    "//when that function is done executing, the context returns to the context it was executing in before the function call\n",
    "//this is important because from context to context, values can be different"
   ]
  },
  {
   "cell_type": "code",
   "execution_count": 1,
   "metadata": {},
   "outputs": [
    {
     "data": {
      "text/plain": [
       "'2.00'"
      ]
     },
     "execution_count": 1,
     "metadata": {},
     "output_type": "execute_result"
    }
   ],
   "source": [
    "//there is a special object called this that gets it's value from the execution context\n",
    "//if it's a function invoked on an object, this refers to the properties of the object\n",
    "var n = 2;\n",
    "n.toFixed(2);\n",
    "//inside of toFixed, this refers to the n variable"
   ]
  },
  {
   "cell_type": "code",
   "execution_count": 4,
   "metadata": {},
   "outputs": [
    {
     "data": {
      "text/plain": [
       "7"
      ]
     },
     "execution_count": 4,
     "metadata": {},
     "output_type": "execute_result"
    }
   ],
   "source": [
    "//when the function is not associated with an object, the function belongs to the global object https://javascript.info/global-object\n",
    "//In this case, this refers to teh global object\n",
    "//consider the following\n",
    "var chapter = {\n",
    "    num: 7,\n",
    "    title: 'Creating Functions',\n",
    "    getNum: function() { return num; } //you think you can access num here\n",
    "};\n",
    "\n",
    "chapter.getNum(); //throws an exception because num is not accessible"
   ]
  },
  {
   "cell_type": "code",
   "execution_count": 5,
   "metadata": {},
   "outputs": [
    {
     "data": {
      "text/plain": [
       "7"
      ]
     },
     "execution_count": 5,
     "metadata": {},
     "output_type": "execute_result"
    }
   ],
   "source": [
    "//as you can see, just because num is a property of the object, we still can't access it\n",
    "//this works though\n",
    "var chapter = {\n",
    "    num: 7,\n",
    "    title: 'Creating Functions',\n",
    "    getNum: function() { return this.num; }\n",
    "};\n",
    "\n",
    "chapter.getNum();"
   ]
  },
  {
   "cell_type": "code",
   "execution_count": 6,
   "metadata": {},
   "outputs": [
    {
     "ename": "SyntaxError",
     "evalue": "Invalid shorthand property initializer",
     "output_type": "error",
     "traceback": [
      "evalmachine.<anonymous>:4",
      "    firstName = 'Adrian',",
      "    ^^^^^^^^^^^^^^^^^^^^",
      "",
      "SyntaxError: Invalid shorthand property initializer",
      "    at new Script (vm.js:83:7)",
      "    at createScript (vm.js:277:10)",
      "    at Object.runInThisContext (vm.js:329:10)",
      "    at run ([eval]:1054:15)",
      "    at onRunRequest ([eval]:888:18)",
      "    at onMessage ([eval]:848:13)",
      "    at process.emit (events.js:198:13)",
      "    at emit (internal/child_process.js:832:12)",
      "    at process._tickCallback (internal/process/next_tick.js:63:19)"
     ]
    }
   ],
   "source": [
    "//so remember that in a function, this refers to the current object\n",
    "//lets do another, fix the following code\n",
    "var employee = {\n",
    "    firstName = 'Adrian',\n",
    "    lastName = 'Tillman',\n",
    "    department = 'CCIT',\n",
    "    getName: function () { return lastName + ', ' + firstName},\n",
    "    hireDate: new Date()\n",
    "};\n",
    "\n",
    "employee.getName();\n"
   ]
  },
  {
   "cell_type": "code",
   "execution_count": 7,
   "metadata": {},
   "outputs": [
    {
     "name": "stdout",
     "output_type": "stream",
     "text": [
      "Hi There\n"
     ]
    }
   ],
   "source": [
    "//when we get to client side and server side js you'll see anonymous functions alot.\n",
    "//anonymous functions are just regular functions that don't have a name\n",
    "//remember our immediately invoked functions?\n",
    "(function () {\n",
    "    console.log(\"Hi There\");\n",
    "})();\n",
    "//well that code inside the outer ()'s is an anonymous function. Looks just like a regular function doesn't it"
   ]
  },
  {
   "cell_type": "code",
   "execution_count": 8,
   "metadata": {},
   "outputs": [
    {
     "name": "stdout",
     "output_type": "stream",
     "text": [
      "Adrian\n"
     ]
    },
    {
     "ename": "ReferenceError",
     "evalue": "name is not defined",
     "output_type": "error",
     "traceback": [
      "evalmachine.<anonymous>:7",
      "console.log(name); //but not here",
      "            ^",
      "",
      "ReferenceError: name is not defined",
      "    at evalmachine.<anonymous>:7:13",
      "    at Script.runInThisContext (vm.js:122:20)",
      "    at Object.runInThisContext (vm.js:329:38)",
      "    at run ([eval]:1054:15)",
      "    at onRunRequest ([eval]:888:18)",
      "    at onMessage ([eval]:848:13)",
      "    at process.emit (events.js:198:13)",
      "    at emit (internal/child_process.js:832:12)",
      "    at process._tickCallback (internal/process/next_tick.js:63:19)"
     ]
    }
   ],
   "source": [
    "//we ofte n use this type of code to keep our variables out of the global object\n",
    "//this is important because we don't conflicts with over scripts that might use the same names\n",
    "(function () {\n",
    "    var name = 'Adrian';\n",
    "    console.log(name); //name is accessble here\n",
    "})();\n",
    "console.log(name); //but not here"
   ]
  },
  {
   "cell_type": "code",
   "execution_count": null,
   "metadata": {},
   "outputs": [],
   "source": [
    "//we can nest functions in js and the inner function has access to values from the outer function\n",
    "function test(arg) {\n",
    "    var environment = {\n",
    "        name: arg\n",
    "    };\n",
    "    \n",
    "    function setConfig(innerArg){\n",
    "            console.log('Environment: ' + innerArg.name);\n",
    "            console.log('Outer Variable: ' + arg);\n",
    "            console.log('Outer Environment: ' + environment.name);\n",
    "    }\n",
    "    setConfig(environment);\n",
    "}\n",
    "test('dev');"
   ]
  },
  {
   "cell_type": "code",
   "execution_count": null,
   "metadata": {},
   "outputs": [],
   "source": [
    "//In the above example, the inner function will have its own scope but it has access to the scope of the outer function\n",
    "//the inner function is invisible to the global scope so we can't call it from outside the function.\n",
    "function test(arg) {\n",
    "    var environment = {\n",
    "        name: arg\n",
    "    };\n",
    "    \n",
    "    function setConfig(innerArg){\n",
    "            console.log('Environment: ' + innerArg.name);\n",
    "            console.log('Outer Variable: ' + arg);\n",
    "            console.log('Outer Environment: ' + environment.name);\n",
    "    }\n",
    "    setConfig(environment);\n",
    "}\n",
    "setConfig({}); //won't work"
   ]
  },
  {
   "cell_type": "code",
   "execution_count": null,
   "metadata": {
    "collapsed": true
   },
   "outputs": [],
   "source": []
  }
 ],
 "metadata": {
  "kernelspec": {
   "display_name": "Javascript (Node.js)",
   "language": "javascript",
   "name": "javascript"
  },
  "language_info": {
   "file_extension": ".js",
   "mimetype": "application/javascript",
   "name": "javascript",
   "version": "10.16.3"
  }
 },
 "nbformat": 4,
 "nbformat_minor": 2
}
