{
 "cells": [
  {
   "cell_type": "code",
   "execution_count": null,
   "metadata": {
    "collapsed": true
   },
   "outputs": [],
   "source": [
    "//we already know what a variable is\n",
    "//now we need to understand when and who the variable is available to"
   ]
  },
  {
   "cell_type": "code",
   "execution_count": null,
   "metadata": {
    "collapsed": true
   },
   "outputs": [],
   "source": [
    "//function shave their own scope, called local scope.\n",
    "//All the parameters and variables a function create are only visible to it.\n",
    "function sayHello(name) {\n",
    "    //we can access name here\n",
    "}\n",
    "//we cannot access name here.\n",
    "\n",
    "//variables in the function belong to the function \n",
    "//as long as they are declared with var\n",
    "function sayHello(name) {\n",
    "    var prefix = \"Hello\"; \n",
    "    //your can use prefix\n",
    "}\n",
    "//you can not use prefix here."
   ]
  },
  {
   "cell_type": "code",
   "execution_count": null,
   "metadata": {
    "collapsed": true
   },
   "outputs": [],
   "source": [
    "//all variables declared outside a function \n",
    "//are visible in all the functions and all called global \n",
    "var prefix = \"hello\";\n",
    "function sayHello(name) {\n",
    "    //you can use prefix here\n",
    "}\n",
    "\n",
    "//BE CAREFUL\n",
    "//if I omit var, a variable in a function has global scope\n",
    "function sayHello(name) {\n",
    "    prefix = \"Hello\";\n",
    "}\n",
    "//prefix can be used here\n",
    "\n",
    "//I know it will be tempting to use this approach but it's bad bad bad practice\n",
    "//and will cause you lots of grief later!"
   ]
  },
  {
   "cell_type": "code",
   "execution_count": null,
   "metadata": {
    "collapsed": true
   },
   "outputs": [],
   "source": [
    "//local varialbes of the same name as some global variable take precedence\n",
    "var prefix = \"hello\";\n",
    "function sayHello(name) {\n",
    "    var prefix = \"What's up\";\n",
    "    console.log(prefix); //will show Whats up\n",
    "}"
   ]
  }
 ],
 "metadata": {
  "kernelspec": {
   "display_name": "Javascript (Node.js)",
   "language": "javascript",
   "name": "javascript"
  },
  "language_info": {
   "file_extension": ".js",
   "mimetype": "application/javascript",
   "name": "javascript",
   "version": "10.16.3"
  }
 },
 "nbformat": 4,
 "nbformat_minor": 2
}
