{
 "cells": [
  {
   "cell_type": "code",
   "execution_count": null,
   "metadata": {
    "collapsed": true
   },
   "outputs": [],
   "source": [
    "//We've already used several functions JavaScript gives us for free\n",
    "//remember console.log()?\n",
    "//now let's create some of our own."
   ]
  },
  {
   "cell_type": "code",
   "execution_count": null,
   "metadata": {
    "collapsed": true
   },
   "outputs": [],
   "source": [
    "//we define a function like this\n",
    "function nameOfFunction() {\n",
    "    \n",
    "}\n",
    "\n",
    "//so if I wanted to create a function called sayHello, that's displays hello\n",
    "function sayHello(){\n",
    "    console.log(\"Hello\");\n",
    "}\n",
    "\n",
    "//try to run it"
   ]
  },
  {
   "cell_type": "code",
   "execution_count": null,
   "metadata": {},
   "outputs": [],
   "source": [
    "//wow, nothing happened, remember that with a function, \n",
    "//we must invoke it before it will execute\n",
    "\n",
    "function sayHello(){\n",
    "    console.log(\"Hello\");\n",
    "}\n",
    "\n",
    "sayHello();\n",
    "\n",
    "//now run it"
   ]
  },
  {
   "cell_type": "code",
   "execution_count": null,
   "metadata": {
    "collapsed": true
   },
   "outputs": [],
   "source": [
    "//you try it\n",
    "//write a function named sayName that will display your name on the console.\n",
    "\n",
    "function     () {\n",
    "    \n",
    "}\n",
    "\n",
    "sayName();\n"
   ]
  },
  {
   "cell_type": "code",
   "execution_count": null,
   "metadata": {},
   "outputs": [],
   "source": [
    "//well a function that only says your name is not very useful, \n",
    "//we would rather have one that displays anyones name it's given\n",
    "//so we need to pass it a value\n",
    "function sayHi(name) {\n",
    "    console.log(\"Hi \" + name);\n",
    "}\n",
    "\n",
    "sayHi(\"Adrian\");\n",
    "\n",
    "//you try it and make it say your name\n",
    "sayHi();\n"
   ]
  },
  {
   "cell_type": "code",
   "execution_count": null,
   "metadata": {},
   "outputs": [],
   "source": [
    "//we only passed one value in the last function\n",
    "//we can also pass multiple values, we just need to separate them with commas\n",
    "function add(valOne, valTwo) {\n",
    "    console.log(valOne + valTwo);\n",
    "}\n",
    "\n",
    "add(2,3);"
   ]
  },
  {
   "cell_type": "code",
   "execution_count": null,
   "metadata": {
    "collapsed": true
   },
   "outputs": [],
   "source": [
    "//you try it\n",
    "//write a function named multiply that multiplies two numbers\n",
    "\n",
    "multiply(5,3); //should display 15"
   ]
  },
  {
   "cell_type": "code",
   "execution_count": null,
   "metadata": {},
   "outputs": [],
   "source": [
    "//any code, we've learned so far can go inside a function\n",
    "//let's say I needed to check that some variables are numbers\n",
    "function areNumbers(x, y){\n",
    "    if ((typeof x == 'number') && (typeof y == 'number')){\n",
    "        return true;\n",
    "    }\n",
    "    return false;\n",
    "}\n",
    "\n",
    "console.log(areNumbers(5,5));\n",
    "console.log(areNumbers('5', '5'));"
   ]
  },
  {
   "cell_type": "code",
   "execution_count": null,
   "metadata": {},
   "outputs": [],
   "source": [
    "//oh wow, did you catch the word 'return' that Is\n",
    "//well sometimes we won't to use a value a function calculates outside the function\n",
    "//observe the following\n",
    "function addTwo(y) {\n",
    "    console.log('In the function, y = ' + y + '\\n');\n",
    "    y = y + 2;\n",
    "    console.log('After adding two. In the function, y = ' + y + '\\n');\n",
    "}\n",
    "var y = 10;\n",
    "console.log('Outside the function, y =' + y + '\\n');\n",
    "addTwo(y);\n",
    "console.log('Outside the function, y =' + y + '\\n');"
   ]
  },
  {
   "cell_type": "code",
   "execution_count": null,
   "metadata": {},
   "outputs": [],
   "source": [
    "//so our observation here is that changing a value in a function\n",
    "//does not affect the value outside the function.\n",
    "//if we want the value to change outside, we need to return it.\n",
    "function addTwo(y) {\n",
    "    console.log('In the function, y = ' + y + '\\n');\n",
    "    result = y + 2;\n",
    "    console.log('After adding two. In the function, y = ' + y + '\\n');\n",
    "    return result;\n",
    "}\n",
    "var y = 10;\n",
    "console.log('Outside the function, y =' + y + '\\n');\n",
    "y = addTwo(y);\n",
    "console.log('Outside the function, y =' + y + '\\n');"
   ]
  },
  {
   "cell_type": "code",
   "execution_count": null,
   "metadata": {
    "collapsed": true
   },
   "outputs": [],
   "source": [
    "//Many times, we use an array to return multiple values such as\n",
    "function returnMany() {\n",
    "    return [1,2,3];\n",
    "}\n",
    "\n",
    "var vals = returnMany();\n",
    "console.log(vals);"
   ]
  },
  {
   "cell_type": "code",
   "execution_count": null,
   "metadata": {
    "collapsed": true
   },
   "outputs": [],
   "source": [
    "//heres an example of a function that creates a random number\n",
    "function getRandomNumber(max) {\n",
    "    var n = Math.random();\n",
    "    if (typeof max == 'number') {\n",
    "        n *= max;\n",
    "        n = Math.floor(n);\n",
    "    }\n",
    "    return n;\n",
    "}\n",
    "\n",
    "//now write a function called generateLottery that calls getRandomNumber \n",
    "//and generates six random lottery numbers, stores them in an array \n",
    "//and returns the array\n",
    "\n",
    "\n",
    "var lottoNumbers = generateLottery();\n",
    "console.log(lottoNumbers.length); //should be 6\n"
   ]
  }
 ],
 "metadata": {
  "kernelspec": {
   "display_name": "Javascript (Node.js)",
   "language": "javascript",
   "name": "javascript"
  },
  "language_info": {
   "file_extension": ".js",
   "mimetype": "application/javascript",
   "name": "javascript",
   "version": "8.9.4"
  }
 },
 "nbformat": 4,
 "nbformat_minor": 2
}
