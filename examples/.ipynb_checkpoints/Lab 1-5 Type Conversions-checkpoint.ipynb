{
 "cells": [
  {
   "cell_type": "code",
   "execution_count": 2,
   "metadata": {},
   "outputs": [
    {
     "name": "stdout",
     "output_type": "stream",
     "text": [
      "120100.00\n"
     ]
    }
   ],
   "source": [
    "//JavaScript is weakly typed http://wiki.c2.com/?WeaklyTyped\n",
    "// it lets us change the values of existing variables to different types\n",
    "var shipping = '100.00'; //notice I'm declaring shipping as a string\n",
    "var quantity = 10;\n",
    "var price = 10.00;\n",
    "var tax = 20;\n",
    "\n",
    "var total = quantity * price;\n",
    "tax /= 100;\n",
    "//tax++;\n",
    "//total *= tax;\n",
    "total += shipping // you would thing adding a number and a string would fail\n",
    "console.log(total); "
   ]
  },
  {
   "cell_type": "code",
   "execution_count": 5,
   "metadata": {},
   "outputs": [
    {
     "name": "stdout",
     "output_type": "stream",
     "text": [
      "220\n"
     ]
    }
   ],
   "source": [
    "// but look closely at the result above. Is it correct? Nope, it actually concatenated the values\n",
    "// don't worry, we can forcibly convert our values just like in python, remember int() and float()?\n",
    "var shipping = '100.00'; //notice I'm declaring shipping as a string\n",
    "var quantity = 10;\n",
    "var price = 10.00;\n",
    "var tax = 20;\n",
    "\n",
    "var total = quantity * price;\n",
    "tax /= 100;\n",
    "tax++;\n",
    "total *= tax;\n",
    "total += parseFloat(shipping, 10) // we're converting shipping to a float with a radix of 10 aka base \n",
    "console.log(total); "
   ]
  },
  {
   "cell_type": "code",
   "execution_count": 7,
   "metadata": {},
   "outputs": [
    {
     "name": "stdout",
     "output_type": "stream",
     "text": [
      "20\n",
      "20\n",
      "20\n",
      "NaN\n"
     ]
    }
   ],
   "source": [
    "//heres some more conversions\n",
    "console.log(parseInt('20', 10));\n",
    "console.log(parseInt('20.0', 10));\n",
    "console.log(parseInt('20 ducklings', 10));\n",
    "console.log(parseInt('I saw 20 ducklings', 10)); //If JavaScript can be parsed we get back NaN"
   ]
  },
  {
   "cell_type": "code",
   "execution_count": null,
   "metadata": {
    "collapsed": true
   },
   "outputs": [],
   "source": [
    "//converting a number to a string is easy as pie.\n",
    "var shipping = '100.00'; //notice I'm declaring shipping as a string\n",
    "var quantity = 10;\n",
    "var price = 10.00;\n",
    "var tax = 20;\n",
    "\n",
    "var total = quantity * price;\n",
    "tax /= 100;\n",
    "tax++;\n",
    "total *= tax;\n",
    "total += parseFloat(shipping, 10) // we're converting shipping to a float with a radix of 10 aka base \n",
    "console.log('Your total is $' + total.toString()); // we use the toString function "
   ]
  }
 ],
 "metadata": {
  "kernelspec": {
   "display_name": "Javascript (Node.js)",
   "language": "javascript",
   "name": "javascript"
  },
  "language_info": {
   "file_extension": ".js",
   "mimetype": "application/javascript",
   "name": "javascript",
   "version": "10.16.3"
  }
 },
 "nbformat": 4,
 "nbformat_minor": 2
}
