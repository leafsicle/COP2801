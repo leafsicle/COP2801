{
 "cells": [
  {
   "cell_type": "code",
   "execution_count": null,
   "metadata": {
    "collapsed": true
   },
   "outputs": [],
   "source": [
    "// We can also manipulate numbers with the math object\n",
    "// We don't create a variable to hold this math object like we do other numbers\n",
    "// It's already apart of what we call the global object\n",
    "// It defines several constants for us such as\n",
    "var radius = 20;\n",
    "var area = Math.PI * radius * radius;\n"
   ]
  },
  {
   "cell_type": "code",
   "execution_count": 1,
   "metadata": {},
   "outputs": [
    {
     "name": "stdout",
     "output_type": "stream",
     "text": [
      "4095.23\n",
      "4096\n",
      "4095\n",
      "5\n",
      "2\n",
      "16770908.7529\n",
      "4095\n",
      "0.5360031045322051\n",
      "16.53229559148617\n"
     ]
    }
   ],
   "source": [
    "// It also has functions we can use, more on functions later.\n",
    "var num = 4095.23;\n",
    "console.log(Math.abs(num * -1)); // gives the absolute value\n",
    "console.log(Math.ceil(num)); // rounds up to the nearest integer\n",
    "console.log(Math.floor(num)); // rounds down to the nearest integer\n",
    "console.log(Math.max(5, 4, 2)); //returns the largest of 0 or more numbers\n",
    "console.log(Math.min(5, 4, 2)); //returns the smallest of 0 or more numbers\n",
    "console.log(Math.pow(num, 2)); //raises num to the second power\n",
    "console.log(Math.round(num)); //rounds a number to the nearest integer\n",
    "console.log(Math.random()); // returns a random number between 0 and 1\n",
    "\n",
    "var min = 1;\n",
    "var max = 100;\n",
    "r = Math.random();\n",
    "console.log(r * (max - min) + min); //generates a random number between 1 and 100\n"
   ]
  },
  {
   "cell_type": "code",
   "execution_count": null,
   "metadata": {
    "collapsed": true
   },
   "outputs": [],
   "source": [
    "// let 's use our new knowledge to calculate the area again\n",
    "var radius = 20;\n",
    "var area = Math.PI * Math.pow(radius, 2);\n",
    "console.log(area);"
   ]
  },
  {
   "cell_type": "code",
   "execution_count": null,
   "metadata": {
    "collapsed": true
   },
   "outputs": [],
   "source": [
    "// You try it\n",
    "// calculate the volume of a sphere and save it in a variable called volume\n",
    "// use 20 for the radius\n",
    "// format it to 2 decimal places\n",
    "\n",
    "\n",
    "\n",
    "console.log(volume); // should display 33510.32"
   ]
  },
  {
   "cell_type": "code",
   "execution_count": null,
   "metadata": {
    "collapsed": true
   },
   "outputs": [],
   "source": []
  }
 ],
 "metadata": {
  "kernelspec": {
   "display_name": "Javascript (Node.js)",
   "language": "javascript",
   "name": "javascript"
  },
  "language_info": {
   "file_extension": ".js",
   "mimetype": "application/javascript",
   "name": "javascript",
   "version": "10.16.3"
  }
 },
 "nbformat": 4,
 "nbformat_minor": 2
}
