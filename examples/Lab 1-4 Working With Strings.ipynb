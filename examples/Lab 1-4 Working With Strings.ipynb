{
 "cells": [
  {
   "cell_type": "code",
   "execution_count": null,
   "metadata": {},
   "outputs": [],
   "source": [
    "// Strings are used often in code, in fact you will probably see strings and numbers more so than any other type.\n",
    "// Let's play with them\n",
    "// Create a String\n",
    "var fullName = 'Adrian Tillman';\n",
    "//we can get the length of a string like this\n",
    "console.log(fullName.length); //this is very useful when controlling loops!\n",
    "\n",
    "// we can also break strings up into pieces\n",
    "var fullName = 'Adrian Tillman';\n",
    "console.log(fullName.charAt(0)); //strings start at index 0 so I get 'A'\n",
    "console.log(fullName.charAt(11));// I get the second l here, remember spaces are characters as well "
   ]
  },
  {
   "cell_type": "code",
   "execution_count": 1,
   "metadata": {},
   "outputs": [
    {
     "name": "stdout",
     "output_type": "stream",
     "text": [
      "0\n",
      "4\n",
      "6\n",
      "4\n"
     ]
    }
   ],
   "source": [
    "// sometimes you will want to know the opposite of above, that is, what's the index of a particular letter\n",
    "var fullName = 'Adrian Tillman';\n",
    "console.log(fullName.indexOf('A'));\n",
    "console.log(fullName.indexOf('a'));\n",
    "console.log(fullName.indexOf(' ')); //see I told you spaces were characters\n",
    "\n",
    "// I can even do a series of characters\n",
    "var language = \"Javascript\";\n",
    "console.log(language.indexOf('script'));\n"
   ]
  },
  {
   "cell_type": "code",
   "execution_count": 7,
   "metadata": {},
   "outputs": [
    {
     "name": "stdout",
     "output_type": "stream",
     "text": [
      "5\n",
      "\n"
     ]
    }
   ],
   "source": [
    "//you try\n",
    "// display the index of a \n",
    "var dog2 = \"Archie\";\n",
    "console.log(dog2.indexOf('e'));\n",
    "//bonus\n",
    "//display the index of the second a\n",
    "console.log();"
   ]
  },
  {
   "cell_type": "code",
   "execution_count": 8,
   "metadata": {},
   "outputs": [
    {
     "name": "stdout",
     "output_type": "stream",
     "text": [
      "-1\n"
     ]
    }
   ],
   "source": [
    "// if we search for a value and it's not there we'll get back -1\n",
    "var answer = \"In the first class\";\n",
    "console.log(answer.indexOf('second'));"
   ]
  },
  {
   "cell_type": "code",
   "execution_count": 11,
   "metadata": {},
   "outputs": [
    {
     "name": "stdout",
     "output_type": "stream",
     "text": [
      "Script\n",
      "Ja\n",
      "0 -6\n"
     ]
    }
   ],
   "source": [
    "//remember in python when you used slices?\n",
    "//we can do the same\n",
    "var language = 'JavaScript';\n",
    "console.log(language.slice(4)); //starts at the fourth character\n",
    "console.log(language.slice(0,2)); //starts at o and stops at 4\n",
    "console.log(0, -6); //a negative second argument counts backwards"
   ]
  },
  {
   "cell_type": "code",
   "execution_count": 13,
   "metadata": {},
   "outputs": [
    {
     "name": "stdout",
     "output_type": "stream",
     "text": [
      "vaScript\n",
      "JavaScript\n"
     ]
    }
   ],
   "source": [
    "//in JavaScript, Strings are immutable so we can't actually change one.\n",
    "//slice will return an entirely new string, the old one will stay the same\n",
    "var language = 'JavaScript';\n",
    "console.log(language.slice(2));\n",
    "console.log(language); //see it hasn't changed"
   ]
  },
  {
   "cell_type": "code",
   "execution_count": null,
   "metadata": {
    "collapsed": true
   },
   "outputs": [],
   "source": [
    "//Very often you will need to add strings together, i.e concatenation\n",
    "var message = 'Hello';\n",
    "message = message + ', World';\n",
    "console.log(message);\n",
    "\n",
    "//we can shorten that syntax some\n",
    "message = 'Hello';\n",
    "message += ', world!';\n",
    "\n",
    "//this is even cooler\n",
    "var address = '100 Main Street';\n",
    "address.concat('Anytown', 'St', '12345', ' US');"
   ]
  },
  {
   "cell_type": "code",
   "execution_count": null,
   "metadata": {
    "collapsed": true
   },
   "outputs": [],
   "source": [
    "//sometimes I need to change the case of a string for matching purposes\n",
    "var language = 'JavaScript';\n",
    "console.log(language.indexOf('script')); //not found\n",
    "console.log(language.toLowerCase().indexOf('script'));\n",
    "//there is also trim to remove whitespace and an toUpperCase method, go figure."
   ]
  }
 ],
 "metadata": {
  "kernelspec": {
   "display_name": "Javascript (Node.js)",
   "language": "javascript",
   "name": "javascript"
  },
  "language_info": {
   "file_extension": ".js",
   "mimetype": "application/javascript",
   "name": "javascript",
   "version": "10.16.3"
  }
 },
 "nbformat": 4,
 "nbformat_minor": 2
}
