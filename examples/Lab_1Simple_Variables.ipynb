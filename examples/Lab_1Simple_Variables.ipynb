{
 "cells": [
  {
   "cell_type": "markdown",
   "metadata": {},
   "source": [
    "# # Simple Variable Types"
   ]
  },
  {
   "cell_type": "markdown",
   "metadata": {},
   "source": [
    "    Simply put, all programs have to represent data somehow. We use variables to store values and give them names in our programs.Let's start with variables that only hold one piece of information at a time. "
   ]
  },
  {
   "cell_type": "code",
   "execution_count": 6,
   "metadata": {},
   "outputs": [
    {
     "name": "stdout",
     "output_type": "stream",
     "text": [
      "undefined\n"
     ]
    }
   ],
   "source": [
    "//Let's say we needed a varible to hold our name, we would use the following\n",
    "let name2;\n",
    "//This declares a variable called name and assigns the string Adrian to it.\n",
    "//We can display the value with console.log\n",
    "console.log(name2);\n"
   ]
  },
  {
   "cell_type": "code",
   "execution_count": 16,
   "metadata": {},
   "outputs": [
    {
     "name": "stdout",
     "output_type": "stream",
     "text": [
      "Adrian\n",
      "Tillman\n"
     ]
    }
   ],
   "source": [
    "//We can use var to declare multiple variables at the same time\n",
    "var firstName = 'Adrian', lastName = 'Tillman';\n",
    "console.log(firstName);\n",
    "console.log(lastName);"
   ]
  },
  {
   "cell_type": "code",
   "execution_count": 17,
   "metadata": {
    "collapsed": true
   },
   "outputs": [],
   "source": [
    "//As you can see above, we must always give it a name when we create a variable\n",
    "//There are some rules though\n",
    "// The name must start with a letter, the underscore, or a dollar sign\n",
    "// These are valid\n",
    "var shoeCost;\n",
    "var _shoeCost;\n",
    "var $shoeCost;"
   ]
  },
  {
   "cell_type": "code",
   "execution_count": 2,
   "metadata": {
    "scrolled": true
   },
   "outputs": [
    {
     "ename": "SyntaxError",
     "evalue": "Invalid or unexpected token",
     "output_type": "error",
     "traceback": [
      "evalmachine.<anonymous>:2",
      "var #shoeCost;",
      "    ^",
      "",
      "SyntaxError: Invalid or unexpected token",
      "    at new Script (vm.js:83:7)",
      "    at createScript (vm.js:277:10)",
      "    at Object.runInThisContext (vm.js:329:10)",
      "    at run ([eval]:1054:15)",
      "    at onRunRequest ([eval]:888:18)",
      "    at onMessage ([eval]:848:13)",
      "    at process.emit (events.js:198:13)",
      "    at emit (internal/child_process.js:832:12)",
      "    at process._tickCallback (internal/process/next_tick.js:63:19)"
     ]
    }
   ],
   "source": [
    "//these are invalid\n",
    "var #shoeCost;\n",
    "var *shoeCost;\n",
    "var 24ShoeCost;\n",
    "//if you run this cell, you'll get a syntax error!"
   ]
  },
  {
   "cell_type": "code",
   "execution_count": 19,
   "metadata": {
    "collapsed": true
   },
   "outputs": [],
   "source": [
    "// The rest of the variable name can contain any combination of letters, underscores, and numbers \n",
    "// these are all valid\n",
    "var shoe_cost;\n",
    "var shoeCost27;"
   ]
  },
  {
   "cell_type": "code",
   "execution_count": 20,
   "metadata": {},
   "outputs": [
    {
     "ename": "SyntaxError",
     "evalue": "Unexpected identifier",
     "output_type": "error",
     "traceback": [
      "evalmachine.<anonymous>:3",
      "var shoe cost;",
      "         ^^^^",
      "SyntaxError: Unexpected identifier",
      "    at createScript (vm.js:56:10)",
      "    at Object.runInThisContext (vm.js:97:10)",
      "    at run ([eval]:971:15)",
      "    at onRunRequest ([eval]:798:18)",
      "    at onMessage ([eval]:758:13)",
      "    at emitTwo (events.js:106:13)",
      "    at process.emit (events.js:191:7)",
      "    at process.nextTick (internal/child_process.js:753:12)",
      "    at _combinedTickCallback (internal/process/next_tick.js:73:7)",
      "    at process._tickCallback (internal/process/next_tick.js:104:9)"
     ]
    }
   ],
   "source": [
    "// You cannot use spaces, punctuation, or any other characters\n",
    "// these are not valid\n",
    "var shoe cost;\n",
    "var shoe_cost#;\n",
    "var shoeCost!;"
   ]
  },
  {
   "cell_type": "code",
   "execution_count": null,
   "metadata": {
    "collapsed": true
   },
   "outputs": [],
   "source": [
    "// You cannot use a reserverd javascript word. https://www.w3schools.com/js/js_reserved.asp\n",
    "// Names are case sensitive\n",
    "// This\n",
    "var shoeCost;\n",
    "// is not the same variable as\n",
    "var shoecost;\n",
    "// even though they have the same name, the case is different!\n"
   ]
  },
  {
   "cell_type": "code",
   "execution_count": null,
   "metadata": {
    "collapsed": true
   },
   "outputs": [],
   "source": [
    "// In JavaScript, we normally use camel-case syntax where words within a name are broken up by a capital letter\n",
    "var fullName;\n",
    "var streetAddress;\n",
    "var monthlyPayment;"
   ]
  },
  {
   "cell_type": "code",
   "execution_count": null,
   "metadata": {
    "collapsed": true
   },
   "outputs": [],
   "source": [
    "// JavsScript has several simple data types, the most common being number, strings, and Booleans\n",
    "// A string is just a series of quoted characters\n",
    "var stringOne = \"This is a string\";\n",
    "var stringTwo = 'This is also a string';\n",
    "//notice I can use double or single quotes, but I can't mix them"
   ]
  },
  {
   "cell_type": "code",
   "execution_count": 21,
   "metadata": {},
   "outputs": [
    {
     "ename": "SyntaxError",
     "evalue": "Invalid or unexpected token",
     "output_type": "error",
     "traceback": [
      "evalmachine.<anonymous>:2",
      "var badString = \"This is a bad string';",
      "                ^^^^^^^^^^^^^^^^^^^^^^^",
      "SyntaxError: Invalid or unexpected token",
      "    at createScript (vm.js:56:10)",
      "    at Object.runInThisContext (vm.js:97:10)",
      "    at run ([eval]:971:15)",
      "    at onRunRequest ([eval]:798:18)",
      "    at onMessage ([eval]:758:13)",
      "    at emitTwo (events.js:106:13)",
      "    at process.emit (events.js:191:7)",
      "    at process.nextTick (internal/child_process.js:753:12)",
      "    at _combinedTickCallback (internal/process/next_tick.js:73:7)",
      "    at process._tickCallback (internal/process/next_tick.js:104:9)"
     ]
    }
   ],
   "source": [
    "// running this one will fail\n",
    "var badString = \"This is a bad string';"
   ]
  },
  {
   "cell_type": "code",
   "execution_count": 22,
   "metadata": {},
   "outputs": [
    {
     "name": "stdout",
     "output_type": "stream",
     "text": [
      "true\n",
      "false\n"
     ]
    }
   ],
   "source": [
    "// There are two boolean values , true and false\n",
    "var isHealthy = true;\n",
    "var isFattening = false;\n",
    "console.log(isHealthy);\n",
    "console.log(isFattening);\n",
    "// notice true and false do not have quotes around them"
   ]
  },
  {
   "cell_type": "code",
   "execution_count": 23,
   "metadata": {},
   "outputs": [
    {
     "name": "stdout",
     "output_type": "stream",
     "text": [
      "27\n",
      "327.25\n",
      "3e-27\n"
     ]
    }
   ],
   "source": [
    "// JavaScript numeric values can contain digits, a single decimal point, a plue or minus, and e for exponential notation.\n",
    "var numStudents = 27;\n",
    "var salary = 327.25;\n",
    "var decay = 3e-27;\n",
    "console.log(numStudents);\n",
    "console.log(salary);\n",
    "console.log(decay);"
   ]
  },
  {
   "cell_type": "code",
   "execution_count": 24,
   "metadata": {},
   "outputs": [
    {
     "name": "stdout",
     "output_type": "stream",
     "text": [
      "null\n",
      "undefined\n"
     ]
    }
   ],
   "source": [
    "// There are some special values\n",
    "// null is used when we want to represent something that has no result\n",
    "var failedStudents = null;\n",
    "console.log(failedStudents);\n",
    "// undefined is usally when we have declared a variable but haven't assigned it a value yet\n",
    "var excellentStudents;\n",
    "console.log(excellentStudents);"
   ]
  },
  {
   "cell_type": "code",
   "execution_count": null,
   "metadata": {
    "collapsed": true
   },
   "outputs": [],
   "source": [
    "//We always want to try and give a variables meaningful names\n",
    "//Let's say you had a problem that wanted me to store a phone number, I could declare it like this\n",
    "var phoneNumber = \"(813)888-8888\";\n",
    "// I used a string because a phone number has characters in it. Trying to use a number with no quotes would fail\n",
    "// What if I wanted to store a social security number?\n",
    "var ssn = \"555-55-5555\";\n",
    "// Again, an ssn has dashes so I need a string\n",
    "// I could do this\n",
    "var ssn = 555555555;\n",
    "// this makes it a number but it's no clear that its a social, we normally use numbers for things we want to do math with such as\n",
    "var payRate = 5.25;\n",
    "var total = 100.80;\n",
    "var shippingCost = 99.00;\n",
    "var totalQty = 10;\n",
    "// When might we want to use boolean values?\n",
    "// Normally when we want to represent something that can be true or false\n",
    "var isCold = true;\n",
    "var isProfessorNice = false;\n",
    "var doesHomeWork = true;\n",
    "var isValidUser = false;\n",
    "// Notice there are no quotes, that would make it a string"
   ]
  },
  {
   "cell_type": "code",
   "execution_count": 3,
   "metadata": {},
   "outputs": [
    {
     "name": "stdout",
     "output_type": "stream",
     "text": [
      "9.8\n",
      "Adrian Tillman\n",
      "true\n"
     ]
    }
   ],
   "source": [
    "// your try it\n",
    "// Assign a value to the variable below to represent gravity\n",
    "var gravity =9.8;\n",
    "// assign a value to the full name variable containing your name\n",
    "var fullName = 'Adrian Tillman';\n",
    "// Assign a value to the variable below representing whether you will pass or not\n",
    "var willPass = true;\n",
    "\n",
    "console.log(gravity);\n",
    "console.log(fullName);\n",
    "console.log(willPass);"
   ]
  },
  {
   "cell_type": "code",
   "execution_count": null,
   "metadata": {},
   "outputs": [],
   "source": []
  }
 ],
 "metadata": {
  "kernelspec": {
   "display_name": "Javascript (Node.js)",
   "language": "javascript",
   "name": "javascript"
  },
  "language_info": {
   "file_extension": ".js",
   "mimetype": "application/javascript",
   "name": "javascript",
   "version": "10.16.3"
  }
 },
 "nbformat": 4,
 "nbformat_minor": 2
}
