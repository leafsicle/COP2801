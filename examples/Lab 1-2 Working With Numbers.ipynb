{
 "cells": [
  {
   "cell_type": "code",
   "execution_count": 2,
   "metadata": {},
   "outputs": [
    {
     "name": "stdout",
     "output_type": "stream",
     "text": [
      "Total: 6.3\n",
      "Tax: 0.441\n",
      "Amount Due: 6.741\n"
     ]
    }
   ],
   "source": [
    "//JavaScript only has one number type. However, we can use it to represent any numerical value.\n",
    "//Normally when we use numeric values, we want to perform some sort of arithmetic on them.\n",
    "//Here are our arithmetic operators\n",
    "\n",
    "//  + Addition\n",
    "//  - Subtraction\n",
    "//  * Multiplication\n",
    "//  / Division\n",
    "//  % Remainder\n",
    "\n",
    "//Let's try them\n",
    "\n",
    "var hamburger = .99;\n",
    "var fries = 1.99;\n",
    "var coke = 2.33;\n",
    "var hamburgersPurchased = 2;\n",
    "\n",
    "var total = (hamburger * hamburgersPurchased) + fries + coke;\n",
    "var tax = total * .07;\n",
    "var totalPurchasePrice = total + tax;\n",
    "console.log(\"Total: \" + total);\n",
    "console.log(\"Tax: \" + tax);\n",
    "console.log(\"Amount Due: \" + totalPurchasePrice);"
   ]
  },
  {
   "cell_type": "code",
   "execution_count": null,
   "metadata": {
    "collapsed": true
   },
   "outputs": [],
   "source": [
    "// In case you forgot, the modulus operator returns the remainder of a division\n",
    "var remainder = 7 % 2; \n",
    "console.log(remainder);"
   ]
  },
  {
   "cell_type": "code",
   "execution_count": null,
   "metadata": {
    "collapsed": true
   },
   "outputs": [],
   "source": [
    "// we can perform a calculation and assign in one step \n",
    "var cost = 50;\n",
    "cost *= 0.7373;\n",
    "console.log(cost);"
   ]
  },
  {
   "cell_type": "code",
   "execution_count": 3,
   "metadata": {},
   "outputs": [
    {
     "name": "stdout",
     "output_type": "stream",
     "text": [
      "2\n",
      "1\n"
     ]
    }
   ],
   "source": [
    "// Many times we need to increment a value by 1 or decrement it by 1, we can do it like this\n",
    "var users = 1;\n",
    "users++;\n",
    "console.log(users);\n",
    "users--;\n",
    "console.log(users);"
   ]
  },
  {
   "cell_type": "code",
   "execution_count": null,
   "metadata": {
    "collapsed": true
   },
   "outputs": [],
   "source": [
    "// One thing we have to be aware of in JavaScript is order of precendence\n",
    "// The best thing to do to avoid any issues is always use parenthesis to force the order of your operations.\n",
    "var num = 3 * 2 + 1; // 7 not 9\n",
    "var num = (3 * 2) + 1; //still 7"
   ]
  },
  {
   "cell_type": "code",
   "execution_count": null,
   "metadata": {
    "collapsed": true
   },
   "outputs": [],
   "source": [
    "// If the result of arithemitic is invalid, it results in a NaN, short for Not a Number or Infinity\n",
    "var result = 3 / 0;\n",
    "console.log(result);\n",
    "result = 3 / \"a\";\n",
    "console.log(result);"
   ]
  },
  {
   "cell_type": "code",
   "execution_count": null,
   "metadata": {
    "collapsed": true
   },
   "outputs": [],
   "source": [
    "//You try it\n",
    "//Create a variable called base and set it equal to 3\n",
    "//Create a variable called height and set it equal to 2\n",
    "//Calculate the area of a triangle which is 1/2bh and store it in a variable called area\n",
    "\n",
    "\n",
    "console.log(area); //should be 3\n"
   ]
  },
  {
   "cell_type": "code",
   "execution_count": null,
   "metadata": {
    "collapsed": true
   },
   "outputs": [],
   "source": [
    "//Sometimes you will need to format numbers and it's pretty easy in js\n",
    "var num = 4095.3892;\n",
    "num.toFixed(3); //4095.389\n",
    "num.toFixed(); //4095 as omitting the argument defaults to 0"
   ]
  },
  {
   "cell_type": "code",
   "execution_count": 1,
   "metadata": {},
   "outputs": [
    {
     "name": "stdout",
     "output_type": "stream",
     "text": [
      "3.14\n"
     ]
    }
   ],
   "source": [
    "//You try it\n",
    "//Complete the code below by setting pi to 3.14159265 and then formatting it to two decimal places\n",
    "//Now round it to two decimal places\n",
    "var pi = 3.14159265;\n",
    "console.log(pi.toFixed(2));"
   ]
  }
 ],
 "metadata": {
  "kernelspec": {
   "display_name": "Javascript (Node.js)",
   "language": "javascript",
   "name": "javascript"
  },
  "language_info": {
   "file_extension": ".js",
   "mimetype": "application/javascript",
   "name": "javascript",
   "version": "10.16.3"
  }
 },
 "nbformat": 4,
 "nbformat_minor": 2
}
